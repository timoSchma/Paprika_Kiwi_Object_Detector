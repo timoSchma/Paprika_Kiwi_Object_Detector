{
 "cells": [
  {
   "cell_type": "markdown",
   "metadata": {},
   "source": [
    "# Setup and Imports"
   ]
  },
  {
   "cell_type": "code",
   "execution_count": 1,
   "metadata": {},
   "outputs": [],
   "source": [
    "import sys\n",
    "sys.path.insert(0,'../..')  # add project root to PATH"
   ]
  },
  {
   "cell_type": "code",
   "execution_count": 2,
   "metadata": {},
   "outputs": [],
   "source": [
    "%load_ext autoreload\n",
    "%autoreload 2"
   ]
  },
  {
   "cell_type": "code",
   "execution_count": 3,
   "metadata": {},
   "outputs": [],
   "source": [
    "# supress tensorflow depreciation warnings\n",
    "import tensorflow as tf\n",
    "tf.compat.v1.logging.set_verbosity(tf.compat.v1.logging.ERROR)"
   ]
  },
  {
   "cell_type": "code",
   "execution_count": 4,
   "metadata": {},
   "outputs": [
    {
     "name": "stderr",
     "output_type": "stream",
     "text": [
      "Using TensorFlow backend.\n"
     ]
    }
   ],
   "source": [
    "# imports\n",
    "from src.model import TinyYoloV3, train_test_split\n",
    "from src.preprocessing import JSONUtil\n",
    "from pathlib import Path\n",
    "import numpy as np"
   ]
  },
  {
   "cell_type": "code",
   "execution_count": 5,
   "metadata": {},
   "outputs": [],
   "source": [
    "data_path = '../../data/'\n",
    "annotation_data = JSONUtil.read(Path(data_path, \"Master.json\"))\n",
    "weights_path = '../../models/pre_trained_weights/tiny-yoloV3.h5'"
   ]
  },
  {
   "cell_type": "markdown",
   "metadata": {},
   "source": [
    "# Model Training"
   ]
  },
  {
   "cell_type": "markdown",
   "metadata": {},
   "source": [
    "### Set the Random Seeds\n",
    "For deterministic execution."
   ]
  },
  {
   "cell_type": "code",
   "execution_count": 6,
   "metadata": {},
   "outputs": [],
   "source": [
    "# set seeds\n",
    "tf.random.set_random_seed(4321)\n",
    "np.random.seed(1459)\n",
    "split_seed = 2345"
   ]
  },
  {
   "cell_type": "markdown",
   "metadata": {},
   "source": [
    "### Load and Prepare the Data\n",
    "Split the data into a test, validation and training set."
   ]
  },
  {
   "cell_type": "code",
   "execution_count": 7,
   "metadata": {
    "scrolled": true
   },
   "outputs": [],
   "source": [
    "# Train-Test split\n",
    "test_split = 0.1\n",
    "train_val_data, test_data = train_test_split(annotation_data, test_split, split_seed)\n",
    "\n",
    "# Train-Validation split\n",
    "validation_split = 0.2\n",
    "training_data, validation_data = train_test_split(train_val_data, validation_split, split_seed)"
   ]
  },
  {
   "cell_type": "markdown",
   "metadata": {},
   "source": [
    "## Transfer Learning: Freezing followed by fine-tuning the whole model"
   ]
  },
  {
   "cell_type": "markdown",
   "metadata": {},
   "source": [
    "### Define the Parameters"
   ]
  },
  {
   "cell_type": "code",
   "execution_count": 8,
   "metadata": {},
   "outputs": [],
   "source": [
    "batch_size = 16\n",
    "lr_freeze = 10**-2\n",
    "lr_fine_tuning = 10**-6\n",
    "epochs_freeze = 200\n",
    "epochs_fine_tuning = 200\n",
    "\n",
    "# Output paths\n",
    "out_path_freeze = \"model_0908.h5\"\n",
    "out_path_fine_tuning = '../../models/custom_trained_weights/model_1308_fine_tune.h5'\n",
    "out_path_checkpoints =\"weights.best.hdf5\""
   ]
  },
  {
   "cell_type": "markdown",
   "metadata": {},
   "source": [
    "### Define the Callbacks"
   ]
  },
  {
   "cell_type": "code",
   "execution_count": 9,
   "metadata": {},
   "outputs": [],
   "source": [
    "from keras.callbacks import EarlyStopping, ReduceLROnPlateau,ModelCheckpoint\n",
    "\n",
    "early_stopping = EarlyStopping(monitor='val_loss', mode='min', verbose=1, patience=20, restore_best_weights = True)\n",
    "reduce_lr = ReduceLROnPlateau(monitor='val_loss', factor=0.2, patience=4, min_lr=0.0000001)\n",
    "checkpoint = ModelCheckpoint(out_path_checkpoints, monitor='val_loss', verbose=0, save_best_only=True)\n",
    "callbacks = [early_stopping, reduce_lr, checkpoint]"
   ]
  },
  {
   "cell_type": "markdown",
   "metadata": {},
   "source": [
    "### Setup the Model"
   ]
  },
  {
   "cell_type": "code",
   "execution_count": 10,
   "metadata": {},
   "outputs": [],
   "source": [
    "import keras.backend as K\n",
    "\n",
    "# Set Keras to learning-mode --> fix constantly adapting batch-normalizations\n",
    "K.set_learning_phase(1)\n",
    "\n",
    "# Setup Model\n",
    "model = TinyYoloV3(path = weights_path, pre_trained_weights = True)\n",
    "model.replace_output_layers()\n",
    "model.training_mode()"
   ]
  },
  {
   "cell_type": "code",
   "execution_count": 11,
   "metadata": {},
   "outputs": [],
   "source": [
    "jittering_params = {\n",
    "        \"rotation_probability\": 0.41196905003193296,\n",
    "        \"jittering_probability\": 0.7701831052109321,\n",
    "        \"jittering_range\": {\n",
    "            \"hue\": 0.9058760880738045,\n",
    "            \"sat\": 0.6951054624889021,\n",
    "            \"val\": 0.8243935344646571\n",
    "        }\n",
    "    }"
   ]
  },
  {
   "cell_type": "code",
   "execution_count": 12,
   "metadata": {},
   "outputs": [
    {
     "name": "stdout",
     "output_type": "stream",
     "text": [
      "Train for 200 epochs on 926 samples with 232 validation samples and batch size 16.\n",
      "Epoch 1/200\n",
      "57/57 [==============================] - 27s 471ms/step - loss: 60.1667 - val_loss: 18.8437\n",
      "Epoch 2/200\n",
      "57/57 [==============================] - 22s 383ms/step - loss: 17.2372 - val_loss: 16.2969\n",
      "Epoch 3/200\n",
      "57/57 [==============================] - 22s 394ms/step - loss: 15.6213 - val_loss: 15.5245\n",
      "Epoch 4/200\n",
      "57/57 [==============================] - 23s 395ms/step - loss: 14.2641 - val_loss: 14.6396\n",
      "Epoch 5/200\n",
      "57/57 [==============================] - 22s 393ms/step - loss: 14.1435 - val_loss: 14.1891\n",
      "Epoch 6/200\n",
      "57/57 [==============================] - 22s 391ms/step - loss: 13.4206 - val_loss: 13.6441\n",
      "Epoch 7/200\n",
      "57/57 [==============================] - 23s 409ms/step - loss: 12.9689 - val_loss: 13.2816\n",
      "Epoch 8/200\n",
      "57/57 [==============================] - 23s 400ms/step - loss: 12.8624 - val_loss: 13.3276\n",
      "Epoch 9/200\n",
      "57/57 [==============================] - 23s 409ms/step - loss: 12.6854 - val_loss: 12.8460\n",
      "Epoch 10/200\n",
      "57/57 [==============================] - 22s 394ms/step - loss: 13.1696 - val_loss: 14.1321\n",
      "Epoch 11/200\n",
      "57/57 [==============================] - 24s 413ms/step - loss: 13.0064 - val_loss: 12.9323\n",
      "Epoch 12/200\n",
      "57/57 [==============================] - 23s 398ms/step - loss: 13.2029 - val_loss: 13.3036\n",
      "Epoch 13/200\n",
      "57/57 [==============================] - 22s 391ms/step - loss: 13.6944 - val_loss: 16.0807\n",
      "Epoch 14/200\n",
      "57/57 [==============================] - 22s 394ms/step - loss: 12.6632 - val_loss: 11.9515\n",
      "Epoch 15/200\n",
      "57/57 [==============================] - 23s 409ms/step - loss: 11.4035 - val_loss: 11.9512\n",
      "Epoch 16/200\n",
      "57/57 [==============================] - 23s 405ms/step - loss: 11.0622 - val_loss: 11.5735\n",
      "Epoch 17/200\n",
      "57/57 [==============================] - 25s 430ms/step - loss: 10.7629 - val_loss: 11.6007\n",
      "Epoch 18/200\n",
      "57/57 [==============================] - 25s 436ms/step - loss: 10.6758 - val_loss: 11.1480\n",
      "Epoch 19/200\n",
      "57/57 [==============================] - 26s 451ms/step - loss: 10.5435 - val_loss: 11.3612\n",
      "Epoch 20/200\n",
      "57/57 [==============================] - 29s 502ms/step - loss: 10.5530 - val_loss: 11.1210\n",
      "Epoch 21/200\n",
      "57/57 [==============================] - 24s 422ms/step - loss: 10.4242 - val_loss: 11.1908\n",
      "Epoch 22/200\n",
      "57/57 [==============================] - 24s 419ms/step - loss: 10.4093 - val_loss: 11.1827\n",
      "Epoch 23/200\n",
      "57/57 [==============================] - 26s 457ms/step - loss: 10.1684 - val_loss: 11.2186\n",
      "Epoch 24/200\n",
      "57/57 [==============================] - 25s 443ms/step - loss: 10.2762 - val_loss: 10.8282\n",
      "Epoch 25/200\n",
      "57/57 [==============================] - 23s 406ms/step - loss: 10.3176 - val_loss: 10.8966\n",
      "Epoch 26/200\n",
      "57/57 [==============================] - 23s 402ms/step - loss: 10.3144 - val_loss: 10.8935\n",
      "Epoch 27/200\n",
      "57/57 [==============================] - 23s 396ms/step - loss: 10.1357 - val_loss: 10.8512\n",
      "Epoch 28/200\n",
      "57/57 [==============================] - 23s 406ms/step - loss: 10.1001 - val_loss: 10.7713\n",
      "Epoch 29/200\n",
      "57/57 [==============================] - 24s 420ms/step - loss: 10.1537 - val_loss: 10.8081\n",
      "Epoch 30/200\n",
      "57/57 [==============================] - 23s 398ms/step - loss: 9.9781 - val_loss: 10.4643\n",
      "Epoch 31/200\n",
      "57/57 [==============================] - 23s 400ms/step - loss: 10.1771 - val_loss: 10.7239\n",
      "Epoch 32/200\n",
      "57/57 [==============================] - 23s 397ms/step - loss: 10.0173 - val_loss: 10.7300\n",
      "Epoch 33/200\n",
      "57/57 [==============================] - 22s 395ms/step - loss: 10.0727 - val_loss: 10.8202\n",
      "Epoch 34/200\n",
      "57/57 [==============================] - 22s 395ms/step - loss: 10.0186 - val_loss: 11.0064\n",
      "Epoch 35/200\n",
      "57/57 [==============================] - 23s 403ms/step - loss: 9.9675 - val_loss: 10.4165\n",
      "Epoch 36/200\n",
      "57/57 [==============================] - 22s 390ms/step - loss: 9.9099 - val_loss: 10.3823\n",
      "Epoch 37/200\n",
      "57/57 [==============================] - 23s 401ms/step - loss: 9.9614 - val_loss: 10.3467\n",
      "Epoch 38/200\n",
      "57/57 [==============================] - 23s 402ms/step - loss: 9.8465 - val_loss: 10.6060\n",
      "Epoch 39/200\n",
      "57/57 [==============================] - 22s 389ms/step - loss: 9.8250 - val_loss: 10.5698\n",
      "Epoch 40/200\n",
      "57/57 [==============================] - 23s 408ms/step - loss: 9.8905 - val_loss: 10.6315\n",
      "Epoch 41/200\n",
      "57/57 [==============================] - 23s 395ms/step - loss: 9.8637 - val_loss: 10.7568\n",
      "Epoch 42/200\n",
      "57/57 [==============================] - 22s 391ms/step - loss: 9.8026 - val_loss: 10.6371\n",
      "Epoch 43/200\n",
      "57/57 [==============================] - 24s 422ms/step - loss: 9.9448 - val_loss: 10.5706\n",
      "Epoch 44/200\n",
      "57/57 [==============================] - 23s 401ms/step - loss: 9.7277 - val_loss: 10.4275\n",
      "Epoch 45/200\n",
      "57/57 [==============================] - 22s 393ms/step - loss: 9.7475 - val_loss: 10.5166\n",
      "Epoch 46/200\n",
      "57/57 [==============================] - 23s 406ms/step - loss: 9.8304 - val_loss: 10.6603\n",
      "Epoch 47/200\n",
      "57/57 [==============================] - 23s 399ms/step - loss: 9.8012 - val_loss: 10.4765\n",
      "Epoch 48/200\n",
      "57/57 [==============================] - 24s 416ms/step - loss: 9.6828 - val_loss: 10.2509\n",
      "Epoch 49/200\n",
      "57/57 [==============================] - 23s 396ms/step - loss: 9.9291 - val_loss: 10.4685\n",
      "Epoch 50/200\n",
      "57/57 [==============================] - 23s 401ms/step - loss: 9.8586 - val_loss: 10.6032\n",
      "Epoch 51/200\n",
      "57/57 [==============================] - 23s 395ms/step - loss: 9.7910 - val_loss: 10.3739\n",
      "Epoch 52/200\n",
      "57/57 [==============================] - 23s 396ms/step - loss: 9.6860 - val_loss: 10.8173\n",
      "Epoch 53/200\n",
      "57/57 [==============================] - 25s 447ms/step - loss: 9.7527 - val_loss: 10.1445\n",
      "Epoch 54/200\n",
      "57/57 [==============================] - 23s 405ms/step - loss: 9.8282 - val_loss: 10.3878\n",
      "Epoch 55/200\n",
      "57/57 [==============================] - 23s 410ms/step - loss: 9.7949 - val_loss: 10.5045\n",
      "Epoch 56/200\n",
      "57/57 [==============================] - 24s 419ms/step - loss: 9.8212 - val_loss: 10.6729\n",
      "Epoch 57/200\n",
      "57/57 [==============================] - 22s 383ms/step - loss: 9.7754 - val_loss: 10.5003\n",
      "Epoch 58/200\n",
      "57/57 [==============================] - 23s 412ms/step - loss: 9.7961 - val_loss: 10.7044\n",
      "Epoch 59/200\n",
      "57/57 [==============================] - 23s 405ms/step - loss: 9.7992 - val_loss: 10.4270\n",
      "Epoch 60/200\n",
      "57/57 [==============================] - 22s 387ms/step - loss: 9.7102 - val_loss: 10.7882\n",
      "Epoch 61/200\n",
      "57/57 [==============================] - 23s 401ms/step - loss: 9.7421 - val_loss: 10.4048\n",
      "Epoch 62/200\n",
      "57/57 [==============================] - 22s 394ms/step - loss: 9.7952 - val_loss: 10.4199\n",
      "Epoch 63/200\n",
      "57/57 [==============================] - 22s 391ms/step - loss: 9.7908 - val_loss: 10.5499\n",
      "Epoch 64/200\n",
      "57/57 [==============================] - 22s 387ms/step - loss: 9.9330 - val_loss: 10.4467\n",
      "Epoch 65/200\n",
      "57/57 [==============================] - 23s 398ms/step - loss: 9.8559 - val_loss: 10.5739\n",
      "Epoch 66/200\n",
      "57/57 [==============================] - 23s 406ms/step - loss: 9.7553 - val_loss: 10.3970\n",
      "Epoch 67/200\n",
      "57/57 [==============================] - 23s 412ms/step - loss: 9.8712 - val_loss: 10.3961\n",
      "Epoch 68/200\n",
      "57/57 [==============================] - 23s 395ms/step - loss: 9.7004 - val_loss: 10.5526\n",
      "Epoch 69/200\n",
      "57/57 [==============================] - 23s 400ms/step - loss: 9.7222 - val_loss: 10.6162\n",
      "Epoch 70/200\n",
      "57/57 [==============================] - 22s 391ms/step - loss: 9.7831 - val_loss: 10.4451\n",
      "Epoch 71/200\n",
      "57/57 [==============================] - 25s 436ms/step - loss: 9.8247 - val_loss: 10.6136\n",
      "Epoch 72/200\n",
      "57/57 [==============================] - 22s 390ms/step - loss: 9.8210 - val_loss: 10.4348\n",
      "Epoch 73/200\n",
      "57/57 [==============================] - 23s 398ms/step - loss: 9.7329 - val_loss: 10.5007\n",
      "Restoring model weights from the end of the best epoch\n",
      "Epoch 00073: early stopping\n"
     ]
    }
   ],
   "source": [
    "# freeze selected layers\n",
    "model.freeze_all_but_output()\n",
    " \n",
    "# start training (Transfer Learning)\n",
    "history_freeze = model.train(training_data, validation_data, data_path, lr_freeze, batch_size, \n",
    "                             epochs_freeze, out_path=out_path_freeze, jittering_params = jittering_params,\n",
    "                             callbacks = callbacks)\n"
   ]
  },
  {
   "cell_type": "code",
   "execution_count": 13,
   "metadata": {},
   "outputs": [
    {
     "name": "stdout",
     "output_type": "stream",
     "text": [
      "Train for 200 epochs on 926 samples with 232 validation samples and batch size 16.\n",
      "Epoch 201/400\n",
      "57/57 [==============================] - 27s 470ms/step - loss: 9.8346 - val_loss: 10.4142\n",
      "Epoch 202/400\n",
      "57/57 [==============================] - 23s 412ms/step - loss: 9.7917 - val_loss: 10.3891\n",
      "Epoch 203/400\n",
      "57/57 [==============================] - 24s 417ms/step - loss: 9.5251 - val_loss: 10.5345\n",
      "Epoch 204/400\n",
      "57/57 [==============================] - 24s 413ms/step - loss: 9.6556 - val_loss: 10.3409\n",
      "Epoch 205/400\n",
      "57/57 [==============================] - 24s 412ms/step - loss: 9.7791 - val_loss: 10.5295\n",
      "Epoch 206/400\n",
      "57/57 [==============================] - 24s 413ms/step - loss: 9.5288 - val_loss: 10.4481\n",
      "Epoch 207/400\n",
      "57/57 [==============================] - 24s 423ms/step - loss: 9.5143 - val_loss: 10.4469\n",
      "Epoch 208/400\n",
      "57/57 [==============================] - 24s 412ms/step - loss: 9.4616 - val_loss: 10.3842\n",
      "Epoch 209/400\n",
      "57/57 [==============================] - 23s 402ms/step - loss: 9.4127 - val_loss: 10.3463\n",
      "Epoch 210/400\n",
      "57/57 [==============================] - 24s 422ms/step - loss: 9.4755 - val_loss: 10.0558\n",
      "Epoch 211/400\n",
      "57/57 [==============================] - 23s 411ms/step - loss: 9.4435 - val_loss: 10.1911\n",
      "Epoch 212/400\n",
      "57/57 [==============================] - 23s 409ms/step - loss: 9.4153 - val_loss: 10.4930\n",
      "Epoch 213/400\n",
      "57/57 [==============================] - 26s 451ms/step - loss: 9.4709 - val_loss: 10.2217\n",
      "Epoch 214/400\n",
      "57/57 [==============================] - 26s 455ms/step - loss: 9.3343 - val_loss: 10.2247\n",
      "Epoch 215/400\n",
      "57/57 [==============================] - 26s 456ms/step - loss: 9.4254 - val_loss: 10.2195\n",
      "Epoch 216/400\n",
      "57/57 [==============================] - 26s 452ms/step - loss: 9.3616 - val_loss: 9.9141\n",
      "Epoch 217/400\n",
      "57/57 [==============================] - 25s 447ms/step - loss: 9.4734 - val_loss: 10.1157\n",
      "Epoch 218/400\n",
      "57/57 [==============================] - 24s 414ms/step - loss: 9.4184 - val_loss: 10.4470\n",
      "Epoch 219/400\n",
      "57/57 [==============================] - 24s 414ms/step - loss: 9.3358 - val_loss: 10.2436\n",
      "Epoch 220/400\n",
      "57/57 [==============================] - 24s 424ms/step - loss: 9.4312 - val_loss: 10.0172\n",
      "Epoch 221/400\n",
      "57/57 [==============================] - 24s 414ms/step - loss: 9.3867 - val_loss: 10.4827\n",
      "Epoch 222/400\n",
      "57/57 [==============================] - 23s 409ms/step - loss: 9.4483 - val_loss: 10.1783\n",
      "Epoch 223/400\n",
      "57/57 [==============================] - 24s 421ms/step - loss: 9.4059 - val_loss: 10.3439\n",
      "Epoch 224/400\n",
      "57/57 [==============================] - 23s 411ms/step - loss: 9.3360 - val_loss: 10.1331\n",
      "Epoch 225/400\n",
      "57/57 [==============================] - 23s 406ms/step - loss: 9.3717 - val_loss: 10.1171\n",
      "Epoch 226/400\n",
      "57/57 [==============================] - 23s 411ms/step - loss: 9.3472 - val_loss: 10.2309\n",
      "Epoch 227/400\n",
      "57/57 [==============================] - 24s 417ms/step - loss: 9.3954 - val_loss: 10.2502\n",
      "Epoch 228/400\n",
      "57/57 [==============================] - 24s 417ms/step - loss: 9.2837 - val_loss: 10.4312\n",
      "Epoch 229/400\n",
      "57/57 [==============================] - 24s 415ms/step - loss: 9.2845 - val_loss: 10.1957\n",
      "Epoch 230/400\n",
      "57/57 [==============================] - 24s 420ms/step - loss: 9.5204 - val_loss: 10.3016\n",
      "Epoch 231/400\n",
      "57/57 [==============================] - 24s 413ms/step - loss: 9.4436 - val_loss: 10.3181\n",
      "Epoch 232/400\n",
      "57/57 [==============================] - 24s 418ms/step - loss: 9.5438 - val_loss: 10.3420\n",
      "Epoch 233/400\n",
      "57/57 [==============================] - 24s 419ms/step - loss: 9.4050 - val_loss: 10.1006\n",
      "Epoch 234/400\n",
      "57/57 [==============================] - 24s 415ms/step - loss: 9.3882 - val_loss: 10.1146\n",
      "Epoch 235/400\n",
      "57/57 [==============================] - 24s 417ms/step - loss: 9.3380 - val_loss: 10.2993\n",
      "Epoch 236/400\n",
      "57/57 [==============================] - 24s 413ms/step - loss: 9.3376 - val_loss: 10.2096\n",
      "Restoring model weights from the end of the best epoch\n",
      "Epoch 00236: early stopping\n"
     ]
    }
   ],
   "source": [
    "model.unfreeze()\n",
    "\n",
    "history_fine_tuning = model.train(training_data, validation_data, data_path, lr_fine_tuning, batch_size, \n",
    "                                  epochs=epochs_freeze+epochs_fine_tuning, initial_epoch=epochs_freeze, \n",
    "                                  out_path=out_path_fine_tuning, jittering_params = jittering_params,\n",
    "                                  callbacks = callbacks)"
   ]
  },
  {
   "cell_type": "markdown",
   "metadata": {},
   "source": [
    "## Evaluate the Model \n",
    "### Plot the Loss History"
   ]
  },
  {
   "cell_type": "code",
   "execution_count": 14,
   "metadata": {},
   "outputs": [],
   "source": [
    "import matplotlib.pyplot as plt\n",
    "def plot_loss(histories):\n",
    "    loss = [loss_value for history in histories \n",
    "                       for loss_value in history.history['loss']]\n",
    "    val_loss = [loss_value for history in histories \n",
    "                           for loss_value in history.history['val_loss']]\n",
    "    plt.plot(loss, label='Loss')\n",
    "    plt.plot(val_loss, label='Val Loss')\n",
    "    plt.title('Loss per Epoch')\n",
    "    plt.ylabel('Loss')\n",
    "    plt.xlabel('Epoch')\n",
    "    plt.legend(loc=\"upper left\")\n",
    "    plt.show()"
   ]
  },
  {
   "cell_type": "code",
   "execution_count": 15,
   "metadata": {},
   "outputs": [
    {
     "data": {
      "image/png": "[encoded data removed]",
      "text/plain": [
       "<Figure size 432x288 with 1 Axes>"
      ]
     },
     "metadata": {
      "needs_background": "light"
     },
     "output_type": "display_data"
    }
   ],
   "source": [
    "plot_loss([history_freeze, history_fine_tuning])"
   ]
  },
  {
   "cell_type": "markdown",
   "metadata": {},
   "source": [
    "### Obtain the Train and Test Error"
   ]
  },
  {
   "cell_type": "code",
   "execution_count": 16,
   "metadata": {},
   "outputs": [
    {
     "data": {
      "text/plain": [
       "11.537859229123242"
      ]
     },
     "execution_count": 16,
     "metadata": {},
     "output_type": "execute_result"
    }
   ],
   "source": [
    "# obtain train-error\n",
    "model.evaluate(train_val_data, data_path)"
   ]
  },
  {
   "cell_type": "code",
   "execution_count": 17,
   "metadata": {},
   "outputs": [
    {
     "data": {
      "text/plain": [
       "11.127773727557456"
      ]
     },
     "execution_count": 17,
     "metadata": {},
     "output_type": "execute_result"
    }
   ],
   "source": [
    "# obtain test-error\n",
    "model.evaluate(test_data, data_path)"
   ]
  },
  {
   "cell_type": "markdown",
   "metadata": {},
   "source": [
    "# Other Options"
   ]
  },
  {
   "cell_type": "markdown",
   "metadata": {},
   "source": [
    "## 1. Grid Search for Hyperparameter Optimization"
   ]
  },
  {
   "cell_type": "code",
   "execution_count": null,
   "metadata": {},
   "outputs": [],
   "source": [
    "from src.grid_search import grid_search"
   ]
  },
  {
   "cell_type": "code",
   "execution_count": null,
   "metadata": {},
   "outputs": [],
   "source": [
    "param_grid = {\n",
    "    \"freeze_learning_rate\": [1e-2],\n",
    "    \"freeze_batch_size\": [16],\n",
    "    \"freeze_epochs\": [1],\n",
    "    \"freeze_jittering_params\": [(0.5, 0.5, 0.1, 1.5, 1.5)],\n",
    "\n",
    "    \"fine_tuning_learning_rate\": [1e-4],\n",
    "    \"fine_tuning_batch_size\": [16],\n",
    "    \"fine_tuning_epochs\": [1],\n",
    "    \"fine_tuning_jittering_params\": [(0.5, 0.5, 0.1, 1.5, 1.5), (0, 0, 0.1, 1.5, 1.5)]\n",
    "}"
   ]
  },
  {
   "cell_type": "code",
   "execution_count": null,
   "metadata": {},
   "outputs": [],
   "source": [
    "from sklearn.model_selection import train_test_split\n",
    "split = train_test_split(np.arange(len(train_val_data)), train_size=1 - validation_split, \n",
    "                         test_size=validation_split, random_state=split_seed)"
   ]
  },
  {
   "cell_type": "code",
   "execution_count": null,
   "metadata": {},
   "outputs": [],
   "source": [
    "search = grid_search(train_val_data, data_path, param_grid, cv=[split])"
   ]
  },
  {
   "cell_type": "code",
   "execution_count": null,
   "metadata": {},
   "outputs": [],
   "source": [
    "search.best_score_"
   ]
  },
  {
   "cell_type": "code",
   "execution_count": null,
   "metadata": {},
   "outputs": [],
   "source": [
    "search.best_params_"
   ]
  },
  {
   "cell_type": "markdown",
   "metadata": {},
   "source": [
    "## 2. Transfer Learning: Bottleneck Training"
   ]
  },
  {
   "cell_type": "code",
   "execution_count": null,
   "metadata": {},
   "outputs": [],
   "source": [
    "from src.bottleneck_features import BottleneckFeatures\n",
    "import keras.backend as K\n",
    "K.set_learning_phase(1)\n",
    "\n",
    "lr_bottleneck = 1e-3\n",
    "lr_freeze = 1e-3\n",
    "lr_fine_tuning = 1e-4\n",
    "\n",
    "epochs_bottleneck = 100\n",
    "epochs_freeze = 10\n",
    "epochs_fine_tuning = 10\n",
    "batch_size = 1\n",
    "\n",
    "out_path = None\n",
    "\n",
    "model = TinyYoloV3()\n",
    "model.replace_output_layers()\n",
    "model.training_mode()\n",
    "\n",
    "yolo_config = model.config"
   ]
  },
  {
   "cell_type": "code",
   "execution_count": null,
   "metadata": {},
   "outputs": [],
   "source": [
    "import sklearn.model_selection\n",
    "\n",
    "indices = list(range(len(annotation_data)))\n",
    "training_indices, validation_indices = sklearn.model_selection.train_test_split(\n",
    "    indices, train_size=1 - validation_split, test_size=validation_split)\n",
    "\n",
    "\n",
    "training_data = {key: annotation_data[key] for i, key in enumerate(annotation_data)\n",
    "                 if i in training_indices}\n",
    "validation_data = {key: annotation_data[key] for i, key in enumerate(annotation_data)\n",
    "                   if i in validation_indices}"
   ]
  },
  {
   "cell_type": "markdown",
   "metadata": {},
   "source": [
    "### Prepare Bottleneck Features and Models"
   ]
  },
  {
   "cell_type": "code",
   "execution_count": null,
   "metadata": {},
   "outputs": [],
   "source": [
    "bottleneck_model, last_layer_model = model.create_bottleneck_and_last_layer_model()"
   ]
  },
  {
   "cell_type": "code",
   "execution_count": null,
   "metadata": {},
   "outputs": [],
   "source": [
    "bottleneck_features = BottleneckFeatures()\n",
    "bottleneck_features.create_from_data(annotation_data, data_path, bottleneck_model, yolo_config)\n",
    "\n",
    "train_features, val_features = bottleneck_features.train_test_split(training_indices, \n",
    "                                                                    validation_indices)"
   ]
  },
  {
   "cell_type": "markdown",
   "metadata": {},
   "source": [
    "### Train Last-Layer Model on bottleneck features"
   ]
  },
  {
   "cell_type": "code",
   "execution_count": null,
   "metadata": {},
   "outputs": [],
   "source": [
    "batch_size_bottleneck = 8\n",
    "\n",
    "train_gen = train_features.generator(batch_size_bottleneck, yolo_config)\n",
    "val_gen = val_features.generator(batch_size_bottleneck, yolo_config)\n",
    "data_len = len(training_indices), len(validation_indices)\n",
    "history_bottleneck = TinyYoloV3.train_model_wrapper(last_layer_model, (train_gen, val_gen), \n",
    "                                                    data_len, batch_size_bottleneck, \n",
    "                                                    lr_bottleneck, epochs_bottleneck)"
   ]
  },
  {
   "cell_type": "markdown",
   "metadata": {},
   "source": [
    "### Training only the last layers with random augmented data (i.e. not bottleneck features)"
   ]
  },
  {
   "cell_type": "code",
   "execution_count": null,
   "metadata": {},
   "outputs": [],
   "source": [
    "model.freeze(range(42)) # TODO: select what to freeze\n",
    "history_freeze = model.train(training_data, validation_data, data_path, lr_freeze, \n",
    "                             batch_size, epochs_freeze, out_path=out_path, random=False)"
   ]
  },
  {
   "cell_type": "markdown",
   "metadata": {},
   "source": [
    "### Final fine-tuning on all layers with lower learning rate"
   ]
  },
  {
   "cell_type": "code",
   "execution_count": null,
   "metadata": {},
   "outputs": [],
   "source": [
    "model.unfreeze()\n",
    "history_fine_tuning = model.train(training_data, validation_data, data_path, \n",
    "                                  lr_fine_tuning, batch_size, \n",
    "                                  epochs=epochs_freeze+epochs_fine_tuning, \n",
    "                                  initial_epoch=epochs_freeze, out_path=out_path, random=False)"
   ]
  },
  {
   "cell_type": "code",
   "execution_count": null,
   "metadata": {},
   "outputs": [],
   "source": [
    "plot_loss([history_bottleneck, history_freeze, history_fine_tuning])"
   ]
  }
 ],
 "metadata": {
  "kernelspec": {
   "display_name": "Python 3",
   "language": "python",
   "name": "python3"
  },
  "language_info": {
   "codemirror_mode": {
    "name": "ipython",
    "version": 3
   },
   "file_extension": ".py",
   "mimetype": "text/x-python",
   "name": "python",
   "nbconvert_exporter": "python",
   "pygments_lexer": "ipython3",
   "version": "3.7.6"
  }
 },
 "nbformat": 4,
 "nbformat_minor": 4
}
