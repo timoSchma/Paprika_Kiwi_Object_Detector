{
 "cells": [
  {
   "cell_type": "markdown",
   "metadata": {},
   "source": [
    "# Merge Images and JSONs"
   ]
  },
  {
   "cell_type": "code",
   "execution_count": null,
   "metadata": {},
   "outputs": [],
   "source": [
    "import sys\n",
    "sys.path.insert(0,'..')  # add project root to PATH"
   ]
  },
  {
   "cell_type": "code",
   "execution_count": null,
   "metadata": {},
   "outputs": [],
   "source": [
    "%load_ext autoreload\n",
    "%autoreload 2"
   ]
  },
  {
   "cell_type": "code",
   "execution_count": null,
   "metadata": {},
   "outputs": [],
   "source": [
    "import pathlib\n",
    "import cv2"
   ]
  },
  {
   "cell_type": "code",
   "execution_count": null,
   "metadata": {},
   "outputs": [],
   "source": [
    "from src.preprocessing import JSONUtil, fix_annotation_keys"
   ]
  },
  {
   "cell_type": "code",
   "execution_count": null,
   "metadata": {
    "pycharm": {
     "is_executing": false
    }
   },
   "outputs": [],
   "source": [
    "# define input and output path for images\n",
    "input_path = \"../data/\"\n",
    "output_path = \"../_data/\""
   ]
  },
  {
   "cell_type": "markdown",
   "metadata": {},
   "source": [
    "## 1. Load, merge and fix annotations"
   ]
  },
  {
   "cell_type": "code",
   "execution_count": null,
   "metadata": {},
   "outputs": [],
   "source": [
    "def correct_annotations_dict(annotations_dict):\n",
    "    for image_name, annotation in annotations_dict.items():\n",
    "        # fix region_attributes: rename 'Object' to 'Objects'\n",
    "        for region in annotation['regions']:\n",
    "            if \"Object\" in region[\"region_attributes\"]:\n",
    "                print(\"Mistake detected and fixed \", image_name)\n",
    "                region[\"region_attributes\"][\"Objects\"] = region[\"region_attributes\"].pop(\"Object\")\n",
    "    \n",
    "        # output images without bounding boxes\n",
    "        if len(annotation['regions']) == 0:\n",
    "            print(\"No boxes in :\", image_name)\n",
    "    return annotations_dict"
   ]
  },
  {
   "cell_type": "code",
   "execution_count": null,
   "metadata": {
    "pycharm": {
     "is_executing": false
    }
   },
   "outputs": [],
   "source": [
    "annotations_dict = fix_annotation_keys(JSONUtil.merge_jsons(input_path))\n",
    "annotations_dict = correct_annotations_dict(annotations_dict)"
   ]
  },
  {
   "cell_type": "markdown",
   "metadata": {},
   "source": [
    "## 2 Load all images from the input directory and write them to the output "
   ]
  },
  {
   "cell_type": "code",
   "execution_count": null,
   "metadata": {},
   "outputs": [],
   "source": [
    "# loop through all images in input folder and save in output\n",
    "for image_file in pathlib.Path(input_path).rglob('*.jpg'):\n",
    "    # read image\n",
    "    image = cv2.imread(str(image_file))\n",
    "    # write image\n",
    "    image_out_file = pathlib.Path(output_path, image_file.name)\n",
    "    cv2.imwrite(str(image_out_file), image)"
   ]
  },
  {
   "cell_type": "code",
   "execution_count": null,
   "metadata": {},
   "outputs": [],
   "source": [
    "final_json_files = annotations_dict.copy()\n",
    "# loop through json and check existance of all images\n",
    "for filename in annotations_dict:\n",
    "    # test if read image is working\n",
    "    test = cv2.imread(str(pathlib.Path(output_path, filename)))\n",
    "    if test is None:\n",
    "        print(\"Image not found:\", filename)\n",
    "        del final_json_files[filename]"
   ]
  },
  {
   "cell_type": "code",
   "execution_count": null,
   "metadata": {
    "pycharm": {
     "is_executing": false
    }
   },
   "outputs": [],
   "source": [
    "# dump all labeling information into master .json file\n",
    "JSONUtil.write(pathlib.Path(output_path, \"Master.json\"), final_json_files)"
   ]
  },
  {
   "cell_type": "code",
   "execution_count": null,
   "metadata": {},
   "outputs": [],
   "source": []
  }
 ],
 "metadata": {
  "kernelspec": {
   "display_name": "service_analytics_exercises",
   "language": "python",
   "name": "service_analytics_exercises"
  },
  "language_info": {
   "codemirror_mode": {
    "name": "ipython",
    "version": 3
   },
   "file_extension": ".py",
   "mimetype": "text/x-python",
   "name": "python",
   "nbconvert_exporter": "python",
   "pygments_lexer": "ipython3",
   "version": "3.7.7"
  },
  "pycharm": {
   "stem_cell": {
    "cell_type": "raw",
    "metadata": {
     "collapsed": false
    },
    "source": []
   }
  }
 },
 "nbformat": 4,
 "nbformat_minor": 4
}
