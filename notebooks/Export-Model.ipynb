{
 "cells": [
  {
   "cell_type": "markdown",
   "metadata": {},
   "source": [
    "# Setup and Imports"
   ]
  },
  {
   "cell_type": "code",
   "execution_count": 1,
   "metadata": {},
   "outputs": [
    {
     "name": "stderr",
     "output_type": "stream",
     "text": [
      "Using TensorFlow backend.\n"
     ]
    }
   ],
   "source": [
    "import sys\n",
    "sys.path.insert(0,'..')  # add project root to PATH\n",
    "\n",
    "import tensorflow as tf\n",
    "from tensorflow.keras.models import Model\n",
    "from tensorflow.python.framework import graph_io\n",
    "# supress tensorflow depreciation warnings\n",
    "tf.compat.v1.logging.set_verbosity(tf.compat.v1.logging.ERROR)\n",
    "import keras\n",
    "import keras.backend as K\n",
    "K.set_learning_phase(0)\n",
    "\n",
    "from src.model import TinyYoloV3"
   ]
  },
  {
   "cell_type": "markdown",
   "metadata": {},
   "source": [
    "# Export Model"
   ]
  },
  {
   "cell_type": "markdown",
   "metadata": {},
   "source": [
    "## Helper Functions"
   ]
  },
  {
   "cell_type": "code",
   "execution_count": 2,
   "metadata": {},
   "outputs": [],
   "source": [
    "def keras_to_pb(model, output_filename, output_node_names):\n",
    "\n",
    "   \"\"\"\n",
    "   This is the function to convert the Keras model to pb.\n",
    "\n",
    "   Args:\n",
    "      model: The Keras model.\n",
    "      output_filename: The output .pb file name.\n",
    "      output_node_names: The output nodes of the network. If None, then\n",
    "      the function gets the last layer name as the output node.\n",
    "   \"\"\"\n",
    "\n",
    "   # Get the names of the input and output nodes.\n",
    "   in_name = model.layers[0].get_output_at(0).name.split(':')[0]\n",
    "\n",
    "   if output_node_names is None:\n",
    "       output_node_names = [i.name.split(':')[0] for i in model.outputs]\n",
    "\n",
    "   sess = keras.backend.get_session()\n",
    "\n",
    "   # The TensorFlow freeze_graph expects a comma-separated string of output node names.\n",
    "   output_node_names_tf = ','.join(output_node_names)\n",
    "\n",
    "   frozen_graph_def = tf.graph_util.convert_variables_to_constants(\n",
    "       sess,\n",
    "       sess.graph_def,\n",
    "       output_node_names)\n",
    "\n",
    "   sess.close()\n",
    "   if output_filename is not None and output_filename != \"\":\n",
    "       wkdir = ''\n",
    "       tf.train.write_graph(frozen_graph_def, wkdir, output_filename, as_text=False)\n",
    "\n",
    "   return frozen_graph_def, in_name, output_node_names"
   ]
  },
  {
   "cell_type": "markdown",
   "metadata": {},
   "source": [
    "## Load, Optimize and Export \n"
   ]
  },
  {
   "cell_type": "code",
   "execution_count": 3,
   "metadata": {},
   "outputs": [
    {
     "name": "stdout",
     "output_type": "stream",
     "text": [
      "Input Layer: input_1\n",
      "Output Layers: ['activation_1/Identity', 'activation_2/Identity']\n",
      "Optimzing model for TensorRT...\n"
     ]
    },
    {
     "data": {
      "text/plain": "'../models/custom_trained_weights/trt_graph.pb'"
     },
     "execution_count": 3,
     "metadata": {},
     "output_type": "execute_result"
    }
   ],
   "source": [
    "models_root = '../models/custom_trained_weights'\n",
    "model_path = f\"{models_root}/model_1308_custom_jittering.h5\"\n",
    "pb_model_path = None\n",
    "\n",
    "model = TinyYoloV3(path=model_path)\n",
    "# Convert the Keras TinyYolo model to a .pb file\n",
    "frozen_graph_def, in_tensor_name, out_tensor_names = keras_to_pb(model.model, pb_model_path, None)\n",
    "print(\"Input Layer:\", in_tensor_name)\n",
    "print(\"Output Layers:\", out_tensor_names)\n",
    "print(\"Optimzing model for TensorRT...\")\n",
    "\n",
    "\n",
    "import tensorflow.contrib.tensorrt as trt\n",
    "\n",
    "# Create optimized TRT graph\n",
    "trt_graph = trt.create_inference_graph(\n",
    "    input_graph_def=frozen_graph_def,\n",
    "    outputs=out_tensor_names,\n",
    "    max_batch_size=1,\n",
    "    max_workspace_size_bytes=1 << 25,\n",
    "    precision_mode='FP16',\n",
    "    minimum_segment_size=50\n",
    ")\n",
    "\n",
    "graph_io.write_graph(trt_graph, models_root, \"trt_graph.pb\", as_text=False)"
   ]
  },
  {
   "cell_type": "code",
   "execution_count": 3,
   "metadata": {},
   "outputs": [],
   "source": []
  }
 ],
 "metadata": {
  "kernelspec": {
   "display_name": "Python [conda env:sa_exercise_05] *",
   "language": "python",
   "name": "conda-env-sa_exercise_05-py"
  },
  "language_info": {
   "codemirror_mode": {
    "name": "ipython",
    "version": 3
   },
   "file_extension": ".py",
   "mimetype": "text/x-python",
   "name": "python",
   "nbconvert_exporter": "python",
   "pygments_lexer": "ipython3",
   "version": "3.6.10"
  }
 },
 "nbformat": 4,
 "nbformat_minor": 4
}